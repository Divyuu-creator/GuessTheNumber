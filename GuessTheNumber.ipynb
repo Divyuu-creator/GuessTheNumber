{
 "cells": [
  {
   "cell_type": "code",
   "execution_count": 2,
   "id": "3f22efc4-40fd-4db2-9c27-302deb26ee75",
   "metadata": {},
   "outputs": [
    {
     "name": "stdout",
     "output_type": "stream",
     "text": [
      "🎮 Welcome to the Number Guessing Game!\n",
      "Choose difficulty:\n",
      "1. Easy (1-50)\n",
      "2. Medium (1-100)\n",
      "3. Hard (1-500)\n"
     ]
    },
    {
     "name": "stdin",
     "output_type": "stream",
     "text": [
      "Enter 1/2/3:  1\n",
      "\n",
      "Enter your number or Quit(Q):  25\n"
     ]
    },
    {
     "name": "stdout",
     "output_type": "stream",
     "text": [
      "Your guess is too small. ⬆️ Try a bigger number!\n"
     ]
    },
    {
     "name": "stdin",
     "output_type": "stream",
     "text": [
      "\n",
      "Enter your number or Quit(Q):  40\n"
     ]
    },
    {
     "name": "stdout",
     "output_type": "stream",
     "text": [
      "🎉 Congrats! You guessed it in 2 attempts.\n",
      "🏆 New High Score!\n",
      "\n",
      "----------- GAME OVER -----------\n"
     ]
    }
   ],
   "source": [
    "import random\n",
    "\n",
    "def get_highscore():\n",
    "    try:\n",
    "        with open(\"highscore.txt\", \"r\") as f:\n",
    "            return int(f.read())\n",
    "    except:\n",
    "        return None\n",
    "\n",
    "def save_highscore(score):\n",
    "    with open(\"highscore.txt\", \"w\") as f:\n",
    "        f.write(str(score))\n",
    "\n",
    "print(\"🎮 Welcome to the Number Guessing Game!\")\n",
    "print(\"Choose difficulty:\")\n",
    "print(\"1. Easy (1-50)\\n2. Medium (1-100)\\n3. Hard (1-500)\")\n",
    "\n",
    "# difficulty selection\n",
    "while True:\n",
    "    choice = input(\"Enter 1/2/3: \")\n",
    "    if choice == \"1\":\n",
    "        target = random.randint(1, 50)\n",
    "        break\n",
    "    elif choice == \"2\":\n",
    "        target = random.randint(1, 100)\n",
    "        break\n",
    "    elif choice == \"3\":\n",
    "        target = random.randint(1, 500)\n",
    "        break\n",
    "    else:\n",
    "        print(\"❌ Invalid choice. Try again.\")\n",
    "\n",
    "attempts = 0\n",
    "highscore = get_highscore()\n",
    "\n",
    "while True:\n",
    "    userChoice = input(\"\\nEnter your number or Quit(Q): \")\n",
    "\n",
    "    if userChoice.upper() == \"Q\":\n",
    "        print(\"You quit the game. Bye 👋\")\n",
    "        break\n",
    "\n",
    "    try:\n",
    "        userChoice = int(userChoice)\n",
    "    except ValueError:\n",
    "        print(\"⚠️ Please enter a valid number.\")\n",
    "        continue\n",
    "\n",
    "    attempts += 1\n",
    "\n",
    "    if userChoice == target:\n",
    "        print(f\"🎉 Congrats! You guessed it in {attempts} attempts.\")\n",
    "        if highscore is None or attempts < highscore:\n",
    "            print(\"🏆 New High Score!\")\n",
    "            save_highscore(attempts)\n",
    "        else:\n",
    "            print(f\"Current High Score: {highscore} attempts.\")\n",
    "        break\n",
    "    elif userChoice < target:\n",
    "        print(\"Your guess is too small. ⬆️ Try a bigger number!\")\n",
    "    else:\n",
    "        print(\"Your guess is too big. ⬇️ Try a smaller number!\")\n",
    "\n",
    "print(\"\\n----------- GAME OVER -----------\")\n"
   ]
  },
  {
   "cell_type": "code",
   "execution_count": null,
   "id": "c45612fa-9384-4b90-9cb8-6f8a3e117259",
   "metadata": {},
   "outputs": [],
   "source": []
  }
 ],
 "metadata": {
  "kernelspec": {
   "display_name": "Python 3 (ipykernel)",
   "language": "python",
   "name": "python3"
  },
  "language_info": {
   "codemirror_mode": {
    "name": "ipython",
    "version": 3
   },
   "file_extension": ".py",
   "mimetype": "text/x-python",
   "name": "python",
   "nbconvert_exporter": "python",
   "pygments_lexer": "ipython3",
   "version": "3.11.7"
  }
 },
 "nbformat": 4,
 "nbformat_minor": 5
}
